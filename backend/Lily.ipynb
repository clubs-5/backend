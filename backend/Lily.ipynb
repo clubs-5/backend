{
 "metadata": {
  "language_info": {
   "codemirror_mode": {
    "name": "ipython",
    "version": 3
   },
   "file_extension": ".py",
   "mimetype": "text/x-python",
   "name": "python",
   "nbconvert_exporter": "python",
   "pygments_lexer": "ipython3",
   "version": "3.8.6-final"
  },
  "orig_nbformat": 2,
  "kernelspec": {
   "name": "python3",
   "display_name": "Python 3.8.6 64-bit ('webapp': pipenv)",
   "metadata": {
    "interpreter": {
     "hash": "4e6633495c58ac684e0fae21b4bb2c8d964d4efcf50d6689d07da6408e3c027d"
    }
   }
  }
 },
 "nbformat": 4,
 "nbformat_minor": 2,
 "cells": [
  {
   "cell_type": "code",
   "execution_count": 1,
   "metadata": {},
   "outputs": [],
   "source": [
    "import pandas as pd "
   ]
  },
  {
   "cell_type": "code",
   "execution_count": 2,
   "metadata": {},
   "outputs": [],
   "source": [
    "import pyarrow as pa\n",
    "import redis\n",
    "import pandas as pd"
   ]
  },
  {
   "cell_type": "code",
   "execution_count": 3,
   "metadata": {},
   "outputs": [],
   "source": [
    "# 宣告 redis 連線\n",
    "r = redis.Redis(host='18.183.130.58', port=2222, db=0)\n",
    "context = pa.default_serialization_context()"
   ]
  },
  {
   "cell_type": "code",
   "execution_count": 4,
   "metadata": {},
   "outputs": [
    {
     "output_type": "error",
     "ename": "InvalidResponse",
     "evalue": "Protocol Error: b'SSH-2.0-OpenSSH_7.6p1 Ubuntu-4ubuntu0.3'",
     "traceback": [
      "\u001b[0;31m---------------------------------------------------------------------------\u001b[0m",
      "\u001b[0;31mInvalidResponse\u001b[0m                           Traceback (most recent call last)",
      "\u001b[0;32m<ipython-input-4-8ad6788fb2a8>\u001b[0m in \u001b[0;36m<module>\u001b[0;34m\u001b[0m\n\u001b[0;32m----> 1\u001b[0;31m \u001b[0mdata\u001b[0m \u001b[0;34m=\u001b[0m \u001b[0mr\u001b[0m\u001b[0;34m.\u001b[0m\u001b[0mget\u001b[0m\u001b[0;34m(\u001b[0m\u001b[0;34m'recomm'\u001b[0m\u001b[0;34m)\u001b[0m\u001b[0;34m\u001b[0m\u001b[0;34m\u001b[0m\u001b[0m\n\u001b[0m",
      "\u001b[0;32m~/.local/share/virtualenvs/webapp-cOoChrYM/lib/python3.8/site-packages/redis/client.py\u001b[0m in \u001b[0;36mget\u001b[0;34m(self, name)\u001b[0m\n\u001b[1;32m   1604\u001b[0m         \u001b[0mReturn\u001b[0m \u001b[0mthe\u001b[0m \u001b[0mvalue\u001b[0m \u001b[0mat\u001b[0m \u001b[0mkey\u001b[0m\u001b[0;31m \u001b[0m\u001b[0;31m`\u001b[0m\u001b[0;31m`\u001b[0m\u001b[0mname\u001b[0m\u001b[0;31m`\u001b[0m\u001b[0;31m`\u001b[0m\u001b[0;34m,\u001b[0m \u001b[0;32mor\u001b[0m \u001b[0;32mNone\u001b[0m \u001b[0;32mif\u001b[0m \u001b[0mthe\u001b[0m \u001b[0mkey\u001b[0m \u001b[0mdoesn\u001b[0m\u001b[0;31m'\u001b[0m\u001b[0mt\u001b[0m \u001b[0mexist\u001b[0m\u001b[0;34m\u001b[0m\u001b[0;34m\u001b[0m\u001b[0m\n\u001b[1;32m   1605\u001b[0m         \"\"\"\n\u001b[0;32m-> 1606\u001b[0;31m         \u001b[0;32mreturn\u001b[0m \u001b[0mself\u001b[0m\u001b[0;34m.\u001b[0m\u001b[0mexecute_command\u001b[0m\u001b[0;34m(\u001b[0m\u001b[0;34m'GET'\u001b[0m\u001b[0;34m,\u001b[0m \u001b[0mname\u001b[0m\u001b[0;34m)\u001b[0m\u001b[0;34m\u001b[0m\u001b[0;34m\u001b[0m\u001b[0m\n\u001b[0m\u001b[1;32m   1607\u001b[0m \u001b[0;34m\u001b[0m\u001b[0m\n\u001b[1;32m   1608\u001b[0m     \u001b[0;32mdef\u001b[0m \u001b[0m__getitem__\u001b[0m\u001b[0;34m(\u001b[0m\u001b[0mself\u001b[0m\u001b[0;34m,\u001b[0m \u001b[0mname\u001b[0m\u001b[0;34m)\u001b[0m\u001b[0;34m:\u001b[0m\u001b[0;34m\u001b[0m\u001b[0;34m\u001b[0m\u001b[0m\n",
      "\u001b[0;32m~/.local/share/virtualenvs/webapp-cOoChrYM/lib/python3.8/site-packages/redis/client.py\u001b[0m in \u001b[0;36mexecute_command\u001b[0;34m(self, *args, **options)\u001b[0m\n\u001b[1;32m    899\u001b[0m         \u001b[0;32mtry\u001b[0m\u001b[0;34m:\u001b[0m\u001b[0;34m\u001b[0m\u001b[0;34m\u001b[0m\u001b[0m\n\u001b[1;32m    900\u001b[0m             \u001b[0mconn\u001b[0m\u001b[0;34m.\u001b[0m\u001b[0msend_command\u001b[0m\u001b[0;34m(\u001b[0m\u001b[0;34m*\u001b[0m\u001b[0margs\u001b[0m\u001b[0;34m)\u001b[0m\u001b[0;34m\u001b[0m\u001b[0;34m\u001b[0m\u001b[0m\n\u001b[0;32m--> 901\u001b[0;31m             \u001b[0;32mreturn\u001b[0m \u001b[0mself\u001b[0m\u001b[0;34m.\u001b[0m\u001b[0mparse_response\u001b[0m\u001b[0;34m(\u001b[0m\u001b[0mconn\u001b[0m\u001b[0;34m,\u001b[0m \u001b[0mcommand_name\u001b[0m\u001b[0;34m,\u001b[0m \u001b[0;34m**\u001b[0m\u001b[0moptions\u001b[0m\u001b[0;34m)\u001b[0m\u001b[0;34m\u001b[0m\u001b[0;34m\u001b[0m\u001b[0m\n\u001b[0m\u001b[1;32m    902\u001b[0m         \u001b[0;32mexcept\u001b[0m \u001b[0;34m(\u001b[0m\u001b[0mConnectionError\u001b[0m\u001b[0;34m,\u001b[0m \u001b[0mTimeoutError\u001b[0m\u001b[0;34m)\u001b[0m \u001b[0;32mas\u001b[0m \u001b[0me\u001b[0m\u001b[0;34m:\u001b[0m\u001b[0;34m\u001b[0m\u001b[0;34m\u001b[0m\u001b[0m\n\u001b[1;32m    903\u001b[0m             \u001b[0mconn\u001b[0m\u001b[0;34m.\u001b[0m\u001b[0mdisconnect\u001b[0m\u001b[0;34m(\u001b[0m\u001b[0;34m)\u001b[0m\u001b[0;34m\u001b[0m\u001b[0;34m\u001b[0m\u001b[0m\n",
      "\u001b[0;32m~/.local/share/virtualenvs/webapp-cOoChrYM/lib/python3.8/site-packages/redis/client.py\u001b[0m in \u001b[0;36mparse_response\u001b[0;34m(self, connection, command_name, **options)\u001b[0m\n\u001b[1;32m    913\u001b[0m         \u001b[0;34m\"Parses a response from the Redis server\"\u001b[0m\u001b[0;34m\u001b[0m\u001b[0;34m\u001b[0m\u001b[0m\n\u001b[1;32m    914\u001b[0m         \u001b[0;32mtry\u001b[0m\u001b[0;34m:\u001b[0m\u001b[0;34m\u001b[0m\u001b[0;34m\u001b[0m\u001b[0m\n\u001b[0;32m--> 915\u001b[0;31m             \u001b[0mresponse\u001b[0m \u001b[0;34m=\u001b[0m \u001b[0mconnection\u001b[0m\u001b[0;34m.\u001b[0m\u001b[0mread_response\u001b[0m\u001b[0;34m(\u001b[0m\u001b[0;34m)\u001b[0m\u001b[0;34m\u001b[0m\u001b[0;34m\u001b[0m\u001b[0m\n\u001b[0m\u001b[1;32m    916\u001b[0m         \u001b[0;32mexcept\u001b[0m \u001b[0mResponseError\u001b[0m\u001b[0;34m:\u001b[0m\u001b[0;34m\u001b[0m\u001b[0;34m\u001b[0m\u001b[0m\n\u001b[1;32m    917\u001b[0m             \u001b[0;32mif\u001b[0m \u001b[0mEMPTY_RESPONSE\u001b[0m \u001b[0;32min\u001b[0m \u001b[0moptions\u001b[0m\u001b[0;34m:\u001b[0m\u001b[0;34m\u001b[0m\u001b[0;34m\u001b[0m\u001b[0m\n",
      "\u001b[0;32m~/.local/share/virtualenvs/webapp-cOoChrYM/lib/python3.8/site-packages/redis/connection.py\u001b[0m in \u001b[0;36mread_response\u001b[0;34m(self)\u001b[0m\n\u001b[1;32m    737\u001b[0m         \u001b[0;34m\"Read the response from a previously sent command\"\u001b[0m\u001b[0;34m\u001b[0m\u001b[0;34m\u001b[0m\u001b[0m\n\u001b[1;32m    738\u001b[0m         \u001b[0;32mtry\u001b[0m\u001b[0;34m:\u001b[0m\u001b[0;34m\u001b[0m\u001b[0;34m\u001b[0m\u001b[0m\n\u001b[0;32m--> 739\u001b[0;31m             \u001b[0mresponse\u001b[0m \u001b[0;34m=\u001b[0m \u001b[0mself\u001b[0m\u001b[0;34m.\u001b[0m\u001b[0m_parser\u001b[0m\u001b[0;34m.\u001b[0m\u001b[0mread_response\u001b[0m\u001b[0;34m(\u001b[0m\u001b[0;34m)\u001b[0m\u001b[0;34m\u001b[0m\u001b[0;34m\u001b[0m\u001b[0m\n\u001b[0m\u001b[1;32m    740\u001b[0m         \u001b[0;32mexcept\u001b[0m \u001b[0msocket\u001b[0m\u001b[0;34m.\u001b[0m\u001b[0mtimeout\u001b[0m\u001b[0;34m:\u001b[0m\u001b[0;34m\u001b[0m\u001b[0;34m\u001b[0m\u001b[0m\n\u001b[1;32m    741\u001b[0m             \u001b[0mself\u001b[0m\u001b[0;34m.\u001b[0m\u001b[0mdisconnect\u001b[0m\u001b[0;34m(\u001b[0m\u001b[0;34m)\u001b[0m\u001b[0;34m\u001b[0m\u001b[0;34m\u001b[0m\u001b[0m\n",
      "\u001b[0;32m~/.local/share/virtualenvs/webapp-cOoChrYM/lib/python3.8/site-packages/redis/connection.py\u001b[0m in \u001b[0;36mread_response\u001b[0;34m(self)\u001b[0m\n\u001b[1;32m    329\u001b[0m \u001b[0;34m\u001b[0m\u001b[0m\n\u001b[1;32m    330\u001b[0m         \u001b[0;32mif\u001b[0m \u001b[0mbyte\u001b[0m \u001b[0;32mnot\u001b[0m \u001b[0;32min\u001b[0m \u001b[0;34m(\u001b[0m\u001b[0;34mb'-'\u001b[0m\u001b[0;34m,\u001b[0m \u001b[0;34mb'+'\u001b[0m\u001b[0;34m,\u001b[0m \u001b[0;34mb':'\u001b[0m\u001b[0;34m,\u001b[0m \u001b[0;34mb'$'\u001b[0m\u001b[0;34m,\u001b[0m \u001b[0;34mb'*'\u001b[0m\u001b[0;34m)\u001b[0m\u001b[0;34m:\u001b[0m\u001b[0;34m\u001b[0m\u001b[0;34m\u001b[0m\u001b[0m\n\u001b[0;32m--> 331\u001b[0;31m             \u001b[0;32mraise\u001b[0m \u001b[0mInvalidResponse\u001b[0m\u001b[0;34m(\u001b[0m\u001b[0;34m\"Protocol Error: %r\"\u001b[0m \u001b[0;34m%\u001b[0m \u001b[0mraw\u001b[0m\u001b[0;34m)\u001b[0m\u001b[0;34m\u001b[0m\u001b[0;34m\u001b[0m\u001b[0m\n\u001b[0m\u001b[1;32m    332\u001b[0m \u001b[0;34m\u001b[0m\u001b[0m\n\u001b[1;32m    333\u001b[0m         \u001b[0;31m# server returned an error\u001b[0m\u001b[0;34m\u001b[0m\u001b[0;34m\u001b[0m\u001b[0;34m\u001b[0m\u001b[0m\n",
      "\u001b[0;31mInvalidResponse\u001b[0m: Protocol Error: b'SSH-2.0-OpenSSH_7.6p1 Ubuntu-4ubuntu0.3'"
     ]
    }
   ],
   "source": [
    "data = r.get('recomm')"
   ]
  },
  {
   "cell_type": "code",
   "execution_count": 5,
   "metadata": {},
   "outputs": [
    {
     "output_type": "error",
     "ename": "NameError",
     "evalue": "name 'data' is not defined",
     "traceback": [
      "\u001b[0;31m---------------------------------------------------------------------------\u001b[0m",
      "\u001b[0;31mNameError\u001b[0m                                 Traceback (most recent call last)",
      "\u001b[0;32m<ipython-input-5-667d9fa0fc7e>\u001b[0m in \u001b[0;36m<module>\u001b[0;34m\u001b[0m\n\u001b[0;32m----> 1\u001b[0;31m \u001b[0mdf\u001b[0m \u001b[0;34m=\u001b[0m \u001b[0mpd\u001b[0m\u001b[0;34m.\u001b[0m\u001b[0mDataFrame\u001b[0m\u001b[0;34m.\u001b[0m\u001b[0mfrom_dict\u001b[0m\u001b[0;34m(\u001b[0m\u001b[0mcontext\u001b[0m\u001b[0;34m.\u001b[0m\u001b[0mdeserialize\u001b[0m\u001b[0;34m(\u001b[0m\u001b[0mdata\u001b[0m\u001b[0;34m)\u001b[0m\u001b[0;34m)\u001b[0m\u001b[0;34m\u001b[0m\u001b[0;34m\u001b[0m\u001b[0m\n\u001b[0m",
      "\u001b[0;31mNameError\u001b[0m: name 'data' is not defined"
     ]
    }
   ],
   "source": [
    "df = pd.DataFrame.from_dict(context.deserialize(data))\n"
   ]
  },
  {
   "cell_type": "code",
   "execution_count": 6,
   "metadata": {},
   "outputs": [
    {
     "output_type": "execute_result",
     "data": {
      "text/plain": [
       "   userId                                   movieId\n",
       "0     148  [138580, 151989, 203086, 183947, 194434]\n",
       "1     463  [203086, 149484, 151989, 203882, 166812]\n",
       "2     471  [203086, 183475, 204302, 192089, 151615]\n",
       "3     496  [138580, 194160, 194434, 193918, 183947]\n",
       "4     833  [203882, 194434, 193918, 192089, 139036]"
      ],
      "text/html": "<div>\n<style scoped>\n    .dataframe tbody tr th:only-of-type {\n        vertical-align: middle;\n    }\n\n    .dataframe tbody tr th {\n        vertical-align: top;\n    }\n\n    .dataframe thead th {\n        text-align: right;\n    }\n</style>\n<table border=\"1\" class=\"dataframe\">\n  <thead>\n    <tr style=\"text-align: right;\">\n      <th></th>\n      <th>userId</th>\n      <th>movieId</th>\n    </tr>\n  </thead>\n  <tbody>\n    <tr>\n      <th>0</th>\n      <td>148</td>\n      <td>[138580, 151989, 203086, 183947, 194434]</td>\n    </tr>\n    <tr>\n      <th>1</th>\n      <td>463</td>\n      <td>[203086, 149484, 151989, 203882, 166812]</td>\n    </tr>\n    <tr>\n      <th>2</th>\n      <td>471</td>\n      <td>[203086, 183475, 204302, 192089, 151615]</td>\n    </tr>\n    <tr>\n      <th>3</th>\n      <td>496</td>\n      <td>[138580, 194160, 194434, 193918, 183947]</td>\n    </tr>\n    <tr>\n      <th>4</th>\n      <td>833</td>\n      <td>[203882, 194434, 193918, 192089, 139036]</td>\n    </tr>\n  </tbody>\n</table>\n</div>"
     },
     "metadata": {},
     "execution_count": 6
    }
   ],
   "source": [
    "df.head()"
   ]
  },
  {
   "cell_type": "code",
   "execution_count": 11,
   "metadata": {},
   "outputs": [
    {
     "output_type": "stream",
     "name": "stdout",
     "text": [
      "[138580, 151989, 203086, 183947, 194434]\n"
     ]
    }
   ],
   "source": [
    "inputId = 148\n",
    "results = df[df['userId'] == inputId]['movieId']\n",
    "mi = result[0]\n",
    "print(mi)\n"
   ]
  },
  {
   "cell_type": "code",
   "execution_count": 5,
   "metadata": {},
   "outputs": [
    {
     "output_type": "stream",
     "name": "stdout",
     "text": [
      "[138580, 151989, 203086, 183947, 194434]\n"
     ]
    }
   ],
   "source": [
    "a = [138580, 151989, 203086, 183947, 194434]\n",
    "print(a)"
   ]
  },
  {
   "cell_type": "code",
   "execution_count": 25,
   "metadata": {},
   "outputs": [
    {
     "output_type": "execute_result",
     "data": {
      "text/plain": [
       "   Year            Show  Season  User_Ratings  Audience_Score  Critic_Ratings  \\\n",
       "0  2019        The Boys       1          3629              91             101   \n",
       "1  2020        The Boys       2          1638              79              95   \n",
       "2  2015  Schitt's Creek       1           747              89              26   \n",
       "3  2016  Schitt's Creek       2           278              95               6   \n",
       "4  2017  Schitt's Creek       4           193              96              13   \n",
       "\n",
       "   Tomatometer  \n",
       "0           84  \n",
       "1           97  \n",
       "2           65  \n",
       "3          100  \n",
       "4          100  "
      ],
      "text/html": "<div>\n<style scoped>\n    .dataframe tbody tr th:only-of-type {\n        vertical-align: middle;\n    }\n\n    .dataframe tbody tr th {\n        vertical-align: top;\n    }\n\n    .dataframe thead th {\n        text-align: right;\n    }\n</style>\n<table border=\"1\" class=\"dataframe\">\n  <thead>\n    <tr style=\"text-align: right;\">\n      <th></th>\n      <th>Year</th>\n      <th>Show</th>\n      <th>Season</th>\n      <th>User_Ratings</th>\n      <th>Audience_Score</th>\n      <th>Critic_Ratings</th>\n      <th>Tomatometer</th>\n    </tr>\n  </thead>\n  <tbody>\n    <tr>\n      <th>0</th>\n      <td>2019</td>\n      <td>The Boys</td>\n      <td>1</td>\n      <td>3629</td>\n      <td>91</td>\n      <td>101</td>\n      <td>84</td>\n    </tr>\n    <tr>\n      <th>1</th>\n      <td>2020</td>\n      <td>The Boys</td>\n      <td>2</td>\n      <td>1638</td>\n      <td>79</td>\n      <td>95</td>\n      <td>97</td>\n    </tr>\n    <tr>\n      <th>2</th>\n      <td>2015</td>\n      <td>Schitt's Creek</td>\n      <td>1</td>\n      <td>747</td>\n      <td>89</td>\n      <td>26</td>\n      <td>65</td>\n    </tr>\n    <tr>\n      <th>3</th>\n      <td>2016</td>\n      <td>Schitt's Creek</td>\n      <td>2</td>\n      <td>278</td>\n      <td>95</td>\n      <td>6</td>\n      <td>100</td>\n    </tr>\n    <tr>\n      <th>4</th>\n      <td>2017</td>\n      <td>Schitt's Creek</td>\n      <td>4</td>\n      <td>193</td>\n      <td>96</td>\n      <td>13</td>\n      <td>100</td>\n    </tr>\n  </tbody>\n</table>\n</div>"
     },
     "metadata": {},
     "execution_count": 25
    }
   ],
   "source": [
    "dd= pd.read_csv('out_csv.csv')\n",
    "dd.head()"
   ]
  },
  {
   "cell_type": "code",
   "execution_count": 92,
   "metadata": {},
   "outputs": [
    {
     "output_type": "stream",
     "name": "stdout",
     "text": [
      "1\n========================\nYear                  2020\nShow              The Boys\nSeason                   2\nUser_Ratings          1638\nAudience_Score          79\nCritic_Ratings          95\nTomatometer             97\nName: 1, dtype: object\n=========================\nmovieType: 97\n_________________________\n2\n========================\nYear                        2015\nShow              Schitt's Creek\nSeason                         1\nUser_Ratings                 747\nAudience_Score                89\nCritic_Ratings                26\nTomatometer                   65\nName: 2, dtype: object\n=========================\nmovieType: 65\n_________________________\n3\n========================\nYear                        2016\nShow              Schitt's Creek\nSeason                         2\nUser_Ratings                 278\nAudience_Score                95\nCritic_Ratings                 6\nTomatometer                  100\nName: 3, dtype: object\n=========================\nmovieType: 100\n_________________________\n4\n========================\nYear                        2017\nShow              Schitt's Creek\nSeason                         4\nUser_Ratings                 193\nAudience_Score                96\nCritic_Ratings                13\nTomatometer                  100\nName: 4, dtype: object\n=========================\nmovieType: 100\n_________________________\n5\n========================\nYear                        2019\nShow              Schitt's Creek\nSeason                         5\nUser_Ratings                 229\nAudience_Score                94\nCritic_Ratings                17\nTomatometer                  100\nName: 5, dtype: object\n=========================\nmovieType: 100\n_________________________\n"
     ]
    }
   ],
   "source": [
    "dd= pd.read_csv('out_csv.csv')\n",
    "movieId = [1, 2, 3, 4,5 ]\n",
    "for i in movieId:\n",
    "    movieInfo = dd.iloc[i]\n",
    "    print(i)\n",
    "    print(\"========================\")\n",
    "    #print(dd.iloc[i])\n",
    "    select = pd.Series(movieInfo, index = movieInfo.keys())\n",
    "    movieType = 6\n",
    "    print(dd.iloc[i])\n",
    "    print(\"=========================\")\n",
    "    print(\"movieType:\", select[movieType])\n",
    "    print(\"_________________________\")"
   ]
  },
  {
   "cell_type": "code",
   "execution_count": 8,
   "metadata": {},
   "outputs": [
    {
     "output_type": "stream",
     "name": "stdout",
     "text": [
      "movieId                                 33779\ntitle      Eddie Izzard: Dress to Kill (1999)\ngenres                                 Comedy\nName: 9999, dtype: object\n=======\nmovieType: ['Comedy']\n"
     ]
    }
   ],
   "source": [
    "movie = pd.read_csv('movies.csv')\n",
    "m  = movie.iloc[9999]\n",
    "select = pd.Series(m, index = m.keys())\n",
    "print(m)\n",
    "print(\"=======\")\n",
    "#print(select[2])\n",
    "Mtype = select[2]\n",
    "Mtype_split = Mtype.split(\"|\")\n",
    "print(\"movieType:\", Mtype_split)"
   ]
  },
  {
   "cell_type": "code",
   "execution_count": 186,
   "metadata": {},
   "outputs": [
    {
     "output_type": "stream",
     "name": "stdout",
     "text": [
      "                                      title  \\\nmovieId                                       \n1                          Toy Story (1995)   \n2                            Jumanji (1995)   \n3                   Grumpier Old Men (1995)   \n4                  Waiting to Exhale (1995)   \n5        Father of the Bride Part II (1995)   \n\n                                              genres  \nmovieId                                               \n1        Adventure|Animation|Children|Comedy|Fantasy  \n2                         Adventure|Children|Fantasy  \n3                                     Comedy|Romance  \n4                               Comedy|Drama|Romance  \n5                                             Comedy  \n==========\nDrama|Romance\n{'Drama'}\n['Drama', 'Romance']\n"
     ]
    }
   ],
   "source": [
    "movie = pd.read_csv('movies.csv')\n",
    "#print(movie.head())\n",
    "#print(\"===========\")\n",
    "m = movie.set_index(\"movieId\")\n",
    "#print(len(m))\n",
    "print(m.head())\n",
    "#print(m.tail())\n",
    "input_ = 10000\n",
    "mi  = m.iloc[input_]\n",
    "select = pd.Series(mi, index = mi.keys())\n",
    "#movieID = 4\n",
    "print(\"==========\")\n",
    "a = select[1]\n",
    "print(a)\n",
    "b = a.split(\"|\")\n",
    "c = b[0]\n",
    "print(set([c]))\n",
    "print(b)"
   ]
  },
  {
   "cell_type": "code",
   "execution_count": 114,
   "metadata": {},
   "outputs": [
    {
     "output_type": "stream",
     "name": "stdout",
     "text": [
      "<class 'int'>\n"
     ]
    }
   ],
   "source": [
    "num = 1\n",
    "print(type(num))"
   ]
  },
  {
   "cell_type": "code",
   "execution_count": 1,
   "metadata": {
    "tags": []
   },
   "outputs": [
    {
     "output_type": "stream",
     "name": "stdout",
     "text": [
      "Drama\n"
     ]
    }
   ],
   "source": [
    "# 引入 MySQLdb 模組，提供連接 MySQL 的功能\n",
    "import pymysql\n",
    "\n",
    "# 連接 MySQL 資料庫\n",
    "db = pymysql.connect(host=\"10.2.1.234\", user=\"root\", passwd=\"tibame\", db=\"Movies\")\n",
    "cursor = db.cursor()\n",
    "\n",
    "#輸入movieId\n",
    "in_ = 100\n",
    "# 執行 MySQL 查詢指令\n",
    "cursor.execute(\"SELECT genres FROM movie WHERE  movieId = {} \".format(in_))\n",
    "# 取回所有查詢結果\n",
    "results = cursor.fetchall()\n",
    "#for i in results:\n",
    " #   print(i)\n",
    "# 輸出結果\n",
    "for record in results:\n",
    "  col1 = record[0]\n",
    "  #col2 = record[1]\n",
    "  #col3 = record[2]\n",
    "  #print( \"%s, %s\" % (col1, col3))\n",
    "  col1 = col1.split(\"|\")\n",
    "  print((col1)[0])\n",
    "# 關閉連線\n",
    "db.close()"
   ]
  },
  {
   "source": [
    "inputId = 148\n",
    "results = df[df['userId'] == inputId]['movieId']\n",
    "mi = result[0]\n",
    "#print(mi)\n"
   ],
   "cell_type": "markdown",
   "metadata": {}
  },
  {
   "cell_type": "code",
   "execution_count": 183,
   "metadata": {
    "tags": []
   },
   "outputs": [
    {
     "output_type": "stream",
     "name": "stdout",
     "text": [
      "['Horror', 'Children', 'Comedy\\r', 'Adventure', ' La (1937)']\n",
      "====================================\n",
      "custype: ['Horror', 'Children', 'Comedy', 'Adventure']\n",
      "=====================\n",
      "Daba Teziane, 2019–2020, 10.0, ['Comedy', ' Drama', ' Family', ' Romance']\n",
      "El Harba, 2019, 10.0, ['Comedy']\n",
      "Thuththiri, 2018–, 10.0, ['Comedy', ' Sci-Fi']\n",
      "Egotastic FunTime!, 2016–, 10.0, ['Comedy']\n",
      "Ring Rajen, 2016–, 10.0, ['Comedy']\n"
     ]
    }
   ],
   "source": [
    "# 引入 MySQLdb 模組，提供連接 MySQL 的功能\n",
    "import pymysql\n",
    "import re\n",
    "# 連接 MySQL 資料庫\n",
    "db = pymysql.connect(host=\"10.2.1.234\",\n",
    "    user=\"root\", passwd=\"tibame\", db=\"Movies\")\n",
    "cursor = db.cursor()\n",
    "\n",
    "\n",
    "\n",
    "\n",
    "\n",
    "# inputId = request.form\n",
    "# results = df[df['userId'] == inputId]['movieId']\n",
    "# mi = result[0]\n",
    "#movieid輸入\n",
    "mi = [138580, 241, 4303, 1, 140990]\n",
    "a = []\n",
    "b = []\n",
    "user1 = []\n",
    "for i in range(0, 5):\n",
    "    #print(mi[i])\n",
    "#輸入movieId\n",
    "    in_ = mi[i]\n",
    "    cursor.execute(\"SELECT * FROM movie WHERE  movieId = {} \".format(in_))\n",
    "# 執行 MySQL 查詢指令\n",
    "    #cursor.execute(\"SELECT genres FROM movie WHERE  movieId = {} \".format(in_))\n",
    "# 取回所有查詢結果\n",
    "    results = cursor.fetchall()\n",
    "#for i in results:\n",
    " #   print(i)\n",
    "# 輸出結果\n",
    "\n",
    "    \n",
    "    for record in results:\n",
    "        #col1 = record[0]\n",
    "        #col2 = record[1]\n",
    "        col3 = record[2]\n",
    "        #print( \"%s, %s, %s\" % (col1,col2, col3))\n",
    "        col3 = col3.split(\"|\")\n",
    "        #print((col3)[0])\n",
    "        type_ = col3[0]\n",
    "        type_ = type_.split('\"')[0]\n",
    "        a.append(type_)\n",
    "        \n",
    "print(a)\n",
    "print(\"====================================\")\n",
    "# 關閉連線\n",
    "db.close()\n",
    "\n",
    "\n",
    "\n",
    "for item in a:\n",
    "    category = ['Horror','Children','Comedy','Adventure']\n",
    "    for i in category:\n",
    "        pattern =  r'.*{}.*'.format(i)\n",
    "        result = re.match(pattern,item)\n",
    "        if result != None:\n",
    "            #print(i)\n",
    "            b.append(i)\n",
    "        else:\n",
    "            pass\n",
    "print(\"custype:\",b)\n",
    "print(\"=====================\")\n",
    "\n",
    "\n",
    "db = pymysql.connect(host=\"10.2.1.234\", user=\"root\", passwd=\"tibame\", db=\"TVShows\")\n",
    "cursor = db.cursor()\n",
    "\n",
    "\n",
    " #   cursor.execute(\"SELECT * FROM movie WHERE  movieId = {} \".format(in_))\n",
    "cursor.execute(\"SELECT Title, Year_x, imdbRating, Genre FROM imdbdata order by imdbRating DESC, Year_x DESC \")\n",
    "result = cursor.fetchall()\n",
    "\n",
    "count = 0\n",
    "for record in result:\n",
    "    col1 = record[0]\n",
    "    col2 = record[1]\n",
    "    col3 = record[2]\n",
    "    col4 = record[3]\n",
    "    col4 = col4.split(\"|\")\n",
    "\n",
    "    for genre in col4:\n",
    "        if count >  4:\n",
    "            break\n",
    "        for custype in b:\n",
    "            if genre == custype:\n",
    "                print(\"%s, %s, %s, %s\" % (col1,col2, col3, col4))\n",
    "                count += 1\n",
    "            else:\n",
    "                pass\n",
    "\n",
    "\n"
   ]
  },
  {
   "cell_type": "code",
   "execution_count": 180,
   "metadata": {},
   "outputs": [
    {
     "output_type": "stream",
     "name": "stdout",
     "text": [
      "Horror\nChildren\nComedy\nAdventure\n"
     ]
    }
   ],
   "source": [
    "import re    #print( \"%s, %s, %s, %s\" % (col1,col2, col3, col4))\n",
    "a = ['@#$%Horror&*()_', 'Children', 'Comedy\\r', 'Adventure', ' La (1937)']\n",
    "for item in a:\n",
    "    category = ['Horror','Childr    #print( \"%s, %s, %s, %s\" % (col1,col2, col3, col4))en','Comedy','Adventure']\n",
    "    for i in category:\n",
    "        pattern =  r'.*{}.*'.format(i)\n",
    "        result = re.match(pattern,item)\n",
    "        if result != None:\n",
    "            print(i)\n",
    "        else:\n",
    "            pass\n",
    "\n",
    "\n"
   ]
  },
  {
   "cell_type": "code",
   "execution_count": 159,
   "metadata": {
    "tags": []
   },
   "outputs": [
    {
     "output_type": "stream",
     "name": "stdout",
     "text": [
      "['Horror', 'Children', 'Comedy\\r', 'Adventure', ' La (1937)']\n",
      "====================================\n",
      "custype: ['Horror', 'Children', 'Comedy', 'Adventure']\n",
      "=====================\n",
      "Daba Teziane, 2019–2020, 10.0, ['Comedy', ' Drama', ' Family', ' Romance']\n",
      "À Brasileira, 2019–, 10.0, ['Documentary']\n",
      "Boss Hoggin Road Trip Series, 2019–, 10.0, ['Reality-TV']\n",
      "Shiny New Things, 2019–, 10.0, ['Drama']\n",
      "Tunadas, 2019–, 10.0, ['Documentary']\n"
     ]
    }
   ],
   "source": [
    "# 引入 MySQLdb 模組，提供連接 MySQL 的功能\n",
    "import pymysql\n",
    "import re\n",
    "# 連接 MySQL 資料庫\n",
    "db = pymysql.connect(host=\"10.2.1.234\",\n",
    "    user=\"root\", passwd=\"tibame\", db=\"Movies\")\n",
    "cursor = db.cursor()\n",
    "\n",
    "\n",
    "\n",
    "\n",
    "\n",
    "# inputId = request.form\n",
    "# results = df[df['userId'] == inputId]['movieId']\n",
    "# mi = result[0]\n",
    "#movieid輸入\n",
    "mi = [138580, 241, 4303, 1, 140990]\n",
    "a = []\n",
    "b = []\n",
    "user1 = []\n",
    "for i in range(0, 5):\n",
    "    #print(mi[i])\n",
    "#輸入movieId\n",
    "    in_ = mi[i]\n",
    "    cursor.execute(\"SELECT * FROM movie WHERE  movieId = {} \".format(in_))\n",
    "# 執行 MySQL 查詢指令\n",
    "    #cursor.execute(\"SELECT genres FROM movie WHERE  movieId = {} \".format(in_))\n",
    "# 取回所有查詢結果\n",
    "    results = cursor.fetchall()\n",
    "#for i in results:\n",
    " #   print(i)\n",
    "# 輸出結果\n",
    "\n",
    "    \n",
    "    for record in results:\n",
    "        #col1 = record[0]\n",
    "        #col2 = record[1]\n",
    "        col3 = record[2]\n",
    "        #print( \"%s, %s, %s\" % (col1,col2, col3))\n",
    "        col3 = col3.split(\"|\")\n",
    "        #print((col3)[0])\n",
    "        type_ = col3[0]\n",
    "        type_ = type_.split('\"')[0]\n",
    "        a.append(type_)\n",
    "        \n",
    "print(a)\n",
    "print(\"====================================\")\n",
    "# 關閉連線\n",
    "db.close()\n",
    "\n",
    "\n",
    "\n",
    "for item in a:\n",
    "    category = ['Horror','Children','Comedy','Adventure']\n",
    "    for i in category:\n",
    "        pattern =  r'.*{}.*'.format(i)\n",
    "        result = re.match(pattern,item)\n",
    "        if result != None:\n",
    "            #print(i)\n",
    "            b.append(i)\n",
    "        else:\n",
    "            pass\n",
    "print(\"custype:\",b)\n",
    "print(\"=====================\")\n",
    "\n",
    "\n",
    "db = pymysql.connect(host=\"10.2.1.234\", user=\"root\", passwd=\"tibame\", db=\"TVShows\")\n",
    "cursor = db.cursor()\n",
    "\n",
    "\n",
    " #   cursor.execute(\"SELECT * FROM movie WHERE  movieId = {} \".format(in_))\n",
    "cursor.execute(\"SELECT Title, Year_x, imdbRating, Genre FROM imdbdata order by imdbRating DESC, Year_x DESC \")\n",
    "result = cursor.fetchall()\n",
    "\n",
    "count = 0\n",
    "for record in result:\n",
    "    col1 = record[0]\n",
    "    col2 = record[1]\n",
    "    col3 = record[2]\n",
    "    col4 = record[3]\n",
    "    col4 = col4.split(\"|\")\n",
    "\n",
    "    for genre in col4:\n",
    "        for custype in b:\n",
    "            if genre == custype:\n",
    "                tmp = [col1,col2, col3, col4]\n",
    "                user1.append(tmp)\n",
    "            else:\n",
    "                pass\n",
    "            \n",
    "    if count > 4:\n",
    "        break\n",
    "    else:\n",
    "        for r in user1:\n",
    "            c1 = r[0]\n",
    "            c2 = r[1]\n",
    "            c3 = r[2]\n",
    "            c4 = r[3]\n",
    "            print(\"%s, %s, %s, %s\" % (col1,col2, col3, col4))\n",
    "            count += 1\n",
    "\n"
   ]
  },
  {
   "cell_type": "code",
   "execution_count": 20,
   "metadata": {
    "tags": []
   },
   "outputs": [
    {
     "output_type": "stream",
     "name": "stdout",
     "text": [
      "['Adventure', 'Children', 'Fantasy']\n",
      "['Adventure', 'Children', 'Fantasy']\n",
      "['Meie aasta Siberis', 'Reto 4 elementos: naturaleza extrema', 'Meie aasta Iraanis', 'Junk Drawer Magical Adventures', 'Canal Boat Diaries']\n"
     ]
    }
   ],
   "source": [
    "import re\n",
    "import pymysql\n",
    "movie = pd.read_csv('movies.csv')\n",
    "m = movie.set_index(\"movieId\")\n",
    "input_ = 1\n",
    "# movie_ID = input_['電影名字']\n",
    "# input_s = int(movie_ID)\n",
    "m  = movie.iloc[input_]\n",
    "select = pd.Series(m, index = m.keys())\n",
    "a = select[2]\n",
    "c = a.split(\"|\")\n",
    "print(c)\n",
    "\n",
    "b = []\n",
    "user1 = [] \n",
    "for item in c:\n",
    "    category = ['Horror','Children','Comedy','Adventure', 'Fantasy']\n",
    "    for i in category:\n",
    "        pattern =  r'.*{}.*'.format(i)\n",
    "        result = re.match(pattern,item)\n",
    "        if result != None:\n",
    "            b.append(i)\n",
    "        else:\n",
    "            pass\n",
    "print(b)\n",
    "\n",
    "db = pymysql.connect(host=\"10.2.1.234\", user=\"root\", passwd=\"tibame\", db=\"TVShows\")\n",
    "cursor = db.cursor()\n",
    "cursor.execute(\"SELECT Title, Year_x, imdbRating, Genre FROM imdbdata order by imdbRating DESC, Year_x DESC \")\n",
    "result = cursor.fetchall()\n",
    "\n",
    "count = 0\n",
    "ans = []\n",
    "for record in result:\n",
    "    col1 = record[0]\n",
    "    col2 = record[1]\n",
    "    col3 = record[2]\n",
    "    col4 = record[3]\n",
    "    col4 = col4.split(\"|\")\n",
    "\n",
    "    for genre in col4:\n",
    "        if count >  4:\n",
    "            break\n",
    "        for custype in b:\n",
    "            if genre == custype:\n",
    "                ans.append(col1)\n",
    "                count += 1\n",
    "                #print(ans)\n",
    "            else:\n",
    "                pass\n",
    "print(ans)\n",
    "    "
   ]
  },
  {
   "cell_type": "code",
   "execution_count": null,
   "metadata": {},
   "outputs": [],
   "source": []
  }
 ]
}