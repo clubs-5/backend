{
 "cells": [
  {
   "cell_type": "code",
   "execution_count": 2,
   "metadata": {},
   "outputs": [
    {
     "name": "stdout",
     "output_type": "stream",
     "text": [
      "The prediction of  the Primetime Emmy's Award in 2020\n",
      "Cheer\n",
      "Perry Mason\n",
      "Zoey's Extraordinary Playlist\n",
      "Hollywood\n",
      "Star Trek: Picard\n",
      "Unorthodox\n",
      "The Last Dance\n"
     ]
    },
    {
     "name": "stderr",
     "output_type": "stream",
     "text": [
      "/opt/anaconda3/lib/python3.7/site-packages/sklearn/base.py:318: UserWarning: Trying to unpickle estimator LogisticRegression from version 0.23.2 when using version 0.22.1. This might lead to breaking code or invalid results. Use at your own risk.\n",
      "  UserWarning)\n"
     ]
    }
   ],
   "source": [
    "#!/usr/bin/env python\n",
    "# coding: utf-8\n",
    "\n",
    "# ### 使用Model的方法\n",
    "\n",
    "from joblib import load\n",
    "import pandas as pd\n",
    "from sklearn import preprocessing\n",
    "from sklearn.metrics import accuracy_score\n",
    "from sklearn.metrics import confusion_matrix\n",
    "import matplotlib.pyplot as plt\n",
    "from sklearn.metrics import plot_confusion_matrix\n",
    "\n",
    "#讀取模型\n",
    "model = load('./Model/Logistic_Regression.joblib') \n",
    "#print(model)\n",
    "\n",
    "\n",
    "\n",
    "df = pd.read_csv('./2020_series_tmp.csv')\n",
    "#print(df)\n",
    "\n",
    "\n",
    "\n",
    "#載入2020年資料\n",
    "X = df.drop(['Title','Won'],axis=1)\n",
    "y = df['Won']\n",
    "\n",
    "# 特徵縮放\n",
    "scaler = preprocessing.StandardScaler().fit(X)\n",
    "\n",
    "#標準化 X\n",
    "X_nor = scaler.transform(X)\n",
    "\n",
    "#用以訓練好的模型進行預測\n",
    "y_pred = model.predict(X_nor)\n",
    "\n",
    "# 查看準確度\n",
    "#accuracy = accuracy_score(y_pred, y)\n",
    "#print(accuracy)\n",
    "\n",
    "#查看混淆矩陣，判斷實際預測情況\n",
    "#confusion_matrix = confusion_matrix(y, y_pred)\n",
    "#print(confusion_matrix)\n",
    "\n",
    "#畫出混淆矩陣\n",
    "#plot_confusion_matrix(model, X_nor, y,cmap=plt.cm.Reds)\n",
    "#預測結果\n",
    "#print(y_pred)\n",
    "\n",
    "# ### 得獎影集\n",
    "\n",
    "# 找出won 的 index, 對應回原本的 dataframe index\n",
    "\n",
    "result = y_pred.tolist() #numpy array to list\n",
    "\n",
    "index_list = []\n",
    "\n",
    "for index,value in enumerate(result):\n",
    "    if value == 1:\n",
    "        index_list.append(index)\n",
    "\n",
    "print(\"The prediction of  the Primetime Emmy's Award in 2020\")\n",
    "#列出預測的得獎影集\n",
    "for i in index_list:\n",
    "    print(df.at[i,'Title'])\n"
   ]
  },
  {
   "cell_type": "code",
   "execution_count": null,
   "metadata": {},
   "outputs": [],
   "source": []
  }
 ],
 "metadata": {
  "kernelspec": {
   "display_name": "Python 3",
   "language": "python",
   "name": "python3"
  },
  "language_info": {
   "codemirror_mode": {
    "name": "ipython",
    "version": 3
   },
   "file_extension": ".py",
   "mimetype": "text/x-python",
   "name": "python",
   "nbconvert_exporter": "python",
   "pygments_lexer": "ipython3",
   "version": "3.7.6"
  }
 },
 "nbformat": 4,
 "nbformat_minor": 4
}
